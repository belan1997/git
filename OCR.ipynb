{
  "nbformat": 4,
  "nbformat_minor": 0,
  "metadata": {
    "colab": {
      "name": "OCR",
      "provenance": [],
      "authorship_tag": "ABX9TyPmk6xa6vXQext7Sk2EDJAf",
      "include_colab_link": true
    },
    "kernelspec": {
      "name": "python3",
      "display_name": "Python 3"
    },
    "language_info": {
      "name": "python"
    }
  },
  "cells": [
    {
      "cell_type": "markdown",
      "metadata": {
        "id": "view-in-github",
        "colab_type": "text"
      },
      "source": [
        "<a href=\"https://colab.research.google.com/github/belan1997/git/blob/master/OCR.ipynb\" target=\"_parent\"><img src=\"https://colab.research.google.com/assets/colab-badge.svg\" alt=\"Open In Colab\"/></a>"
      ]
    },
    {
      "cell_type": "markdown",
      "metadata": {
        "id": "EWBvbpRPFQfR"
      },
      "source": [
        "**Step 1- Install pytesseract and tesseract-ocr** "
      ]
    },
    {
      "cell_type": "code",
      "metadata": {
        "colab": {
          "base_uri": "https://localhost:8080/"
        },
        "id": "ESV-LN920Gwz",
        "outputId": "eb28c9d0-5087-4d89-eedf-d0b11c96da69"
      },
      "source": [
        "!sudo apt install tesseract-ocr"
      ],
      "execution_count": null,
      "outputs": [
        {
          "output_type": "stream",
          "text": [
            "Reading package lists... Done\n",
            "Building dependency tree       \n",
            "Reading state information... Done\n",
            "The following additional packages will be installed:\n",
            "  tesseract-ocr-eng tesseract-ocr-osd\n",
            "The following NEW packages will be installed:\n",
            "  tesseract-ocr tesseract-ocr-eng tesseract-ocr-osd\n",
            "0 upgraded, 3 newly installed, 0 to remove and 31 not upgraded.\n",
            "Need to get 4,795 kB of archives.\n",
            "After this operation, 15.8 MB of additional disk space will be used.\n",
            "Get:1 http://archive.ubuntu.com/ubuntu bionic/universe amd64 tesseract-ocr-eng all 4.00~git24-0e00fe6-1.2 [1,588 kB]\n",
            "Get:2 http://archive.ubuntu.com/ubuntu bionic/universe amd64 tesseract-ocr-osd all 4.00~git24-0e00fe6-1.2 [2,989 kB]\n",
            "Get:3 http://archive.ubuntu.com/ubuntu bionic/universe amd64 tesseract-ocr amd64 4.00~git2288-10f4998a-2 [218 kB]\n",
            "Fetched 4,795 kB in 1s (5,237 kB/s)\n",
            "debconf: unable to initialize frontend: Dialog\n",
            "debconf: (No usable dialog-like program is installed, so the dialog based frontend cannot be used. at /usr/share/perl5/Debconf/FrontEnd/Dialog.pm line 76, <> line 3.)\n",
            "debconf: falling back to frontend: Readline\n",
            "debconf: unable to initialize frontend: Readline\n",
            "debconf: (This frontend requires a controlling tty.)\n",
            "debconf: falling back to frontend: Teletype\n",
            "dpkg-preconfigure: unable to re-open stdin: \n",
            "Selecting previously unselected package tesseract-ocr-eng.\n",
            "(Reading database ... 160983 files and directories currently installed.)\n",
            "Preparing to unpack .../tesseract-ocr-eng_4.00~git24-0e00fe6-1.2_all.deb ...\n",
            "Unpacking tesseract-ocr-eng (4.00~git24-0e00fe6-1.2) ...\n",
            "Selecting previously unselected package tesseract-ocr-osd.\n",
            "Preparing to unpack .../tesseract-ocr-osd_4.00~git24-0e00fe6-1.2_all.deb ...\n",
            "Unpacking tesseract-ocr-osd (4.00~git24-0e00fe6-1.2) ...\n",
            "Selecting previously unselected package tesseract-ocr.\n",
            "Preparing to unpack .../tesseract-ocr_4.00~git2288-10f4998a-2_amd64.deb ...\n",
            "Unpacking tesseract-ocr (4.00~git2288-10f4998a-2) ...\n",
            "Setting up tesseract-ocr-osd (4.00~git24-0e00fe6-1.2) ...\n",
            "Setting up tesseract-ocr-eng (4.00~git24-0e00fe6-1.2) ...\n",
            "Setting up tesseract-ocr (4.00~git2288-10f4998a-2) ...\n",
            "Processing triggers for man-db (2.8.3-2ubuntu0.1) ...\n"
          ],
          "name": "stdout"
        }
      ]
    },
    {
      "cell_type": "code",
      "metadata": {
        "colab": {
          "base_uri": "https://localhost:8080/"
        },
        "id": "2PGZubHv0XEb",
        "outputId": "510451c7-6aeb-408e-e1d2-823d9b4c78a9"
      },
      "source": [
        "!pip install pytesseract "
      ],
      "execution_count": null,
      "outputs": [
        {
          "output_type": "stream",
          "text": [
            "Collecting pytesseract\n",
            "  Downloading https://files.pythonhosted.org/packages/a0/e6/a4e9fc8a93c1318540e8de6d8d4beb5749b7960388a7c7f27799fc2dd016/pytesseract-0.3.7.tar.gz\n",
            "Requirement already satisfied: Pillow in /usr/local/lib/python3.7/dist-packages (from pytesseract) (7.1.2)\n",
            "Building wheels for collected packages: pytesseract\n",
            "  Building wheel for pytesseract (setup.py) ... \u001b[?25l\u001b[?25hdone\n",
            "  Created wheel for pytesseract: filename=pytesseract-0.3.7-py2.py3-none-any.whl size=13945 sha256=ffe7236e02129816becff380b7d48010ff8ec4e2867a977a4b3b84872c767795\n",
            "  Stored in directory: /root/.cache/pip/wheels/81/20/7e/1dd0daad1575d5260916bb1e9781246430647adaef4b3ca3b3\n",
            "Successfully built pytesseract\n",
            "Installing collected packages: pytesseract\n",
            "Successfully installed pytesseract-0.3.7\n"
          ],
          "name": "stdout"
        }
      ]
    },
    {
      "cell_type": "markdown",
      "metadata": {
        "id": "3gMs6iTJGHMc"
      },
      "source": [
        "**Step 2- Import libraries** "
      ]
    },
    {
      "cell_type": "code",
      "metadata": {
        "id": "KzLKJLR70gDG"
      },
      "source": [
        "import pytesseract\n",
        "import shutil\n",
        "import os\n",
        "import random\n",
        "try:\n",
        "  from PIL import Image\n",
        "except ImportError:\n",
        "  import Image"
      ],
      "execution_count": null,
      "outputs": []
    },
    {
      "cell_type": "markdown",
      "metadata": {
        "id": "ME4wfeq6Gff0"
      },
      "source": [
        "**Step 3- Upload image to colab.We can manually upload the image by clicking on file-upload but we can also use the following code for uploading the image to colab.**"
      ]
    },
    {
      "cell_type": "code",
      "metadata": {
        "colab": {
          "resources": {
            "http://localhost:8080/nbextensions/google.colab/files.js": {
              "data": "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",
              "ok": true,
              "headers": [
                [
                  "content-type",
                  "application/javascript"
                ]
              ],
              "status": 200,
              "status_text": ""
            }
          },
          "base_uri": "https://localhost:8080/",
          "height": 72
        },
        "id": "IXSOTKC11MdO",
        "outputId": "7327f3be-dfe2-40d9-e8b2-6d327f699537"
      },
      "source": [
        "from google.colab import files\n",
        "uploaded = files.upload()"
      ],
      "execution_count": null,
      "outputs": [
        {
          "output_type": "display_data",
          "data": {
            "text/html": [
              "\n",
              "     <input type=\"file\" id=\"files-099827fb-060f-41f7-9ef2-926272deac59\" name=\"files[]\" multiple disabled\n",
              "        style=\"border:none\" />\n",
              "     <output id=\"result-099827fb-060f-41f7-9ef2-926272deac59\">\n",
              "      Upload widget is only available when the cell has been executed in the\n",
              "      current browser session. Please rerun this cell to enable.\n",
              "      </output>\n",
              "      <script src=\"/nbextensions/google.colab/files.js\"></script> "
            ],
            "text/plain": [
              "<IPython.core.display.HTML object>"
            ]
          },
          "metadata": {
            "tags": []
          }
        },
        {
          "output_type": "stream",
          "text": [
            "Saving Vaibhavi.png to Vaibhavi (1).png\n"
          ],
          "name": "stdout"
        }
      ]
    },
    {
      "cell_type": "markdown",
      "metadata": {
        "id": "ya-zxeZvHT6a"
      },
      "source": [
        "**Step 4- Text Extraction.**\n",
        "The image_to_string function will take an image as an argument and returns an extracted text from the image. "
      ]
    },
    {
      "cell_type": "code",
      "metadata": {
        "colab": {
          "base_uri": "https://localhost:8080/"
        },
        "id": "E7QbARzs1t-z",
        "outputId": "d95297d9-cd67-46d1-a329-8c50887c148c"
      },
      "source": [
        "image_path_in_colab = 'Vaibhavi.png'\n",
        "extractedInformation = pytesseract.image_to_string(Image.open(image_path_in_colab))\n",
        "print(extractedInformation)"
      ],
      "execution_count": null,
      "outputs": [
        {
          "output_type": "stream",
          "text": [
            " \n",
            "\n",
            "This is to recognize that\n",
            "\n",
            "Vaibhavi Pramod Belan\n",
            "\n",
            "Successfully Completed the following course\n",
            "Software Testing with Selenium\n",
            "Live Project Training\n",
            "\n",
            "20-03-2021 OITV20116 SD\n",
            "Issue Date Certificate ID P.Satya\n",
            "\n",
            "Online IT Vidhya Founder\n",
            "\f\n"
          ],
          "name": "stdout"
        }
      ]
    },
    {
      "cell_type": "markdown",
      "metadata": {
        "id": "4tqiXzquIjTb"
      },
      "source": [
        "**Step 5- Get bounding boxes for text.**"
      ]
    },
    {
      "cell_type": "code",
      "metadata": {
        "colab": {
          "base_uri": "https://localhost:8080/"
        },
        "id": "_uIejALeAloa",
        "outputId": "3b179939-dbba-4d49-d212-18be02a0937c"
      },
      "source": [
        "print(pytesseract.image_to_boxes(Image.open(image_path_in_colab)))"
      ],
      "execution_count": null,
      "outputs": [
        {
          "output_type": "stream",
          "text": [
            "~ 0 1436 3508 2480 0\n",
            "T 410 1378 438 1426 0\n",
            "h 438 1378 453 1426 0\n",
            "i 467 1378 508 1426 0\n",
            "s 518 1377 550 1414 0\n",
            "i 579 1378 586 1426 0\n",
            "s 595 1377 626 1414 0\n",
            "t 652 1377 671 1425 0\n",
            "o 689 1377 712 1414 0\n",
            "r 741 1378 762 1414 0\n",
            "e 776 1377 801 1414 0\n",
            "c 808 1377 840 1414 0\n",
            "o 846 1377 872 1414 0\n",
            "g 872 1377 883 1414 0\n",
            "n 905 1364 922 1414 0\n",
            "i 934 1378 965 1414 0\n",
            "z 976 1378 983 1426 0\n",
            "e 1004 1377 1050 1414 0\n",
            "t 1091 1377 1100 1425 0\n",
            "h 1100 1377 1110 1425 0\n",
            "a 1132 1378 1148 1426 0\n",
            "t 1161 1377 1217 1425 0\n",
            "V 408 1239 465 1329 0\n",
            "a 500 1237 540 1305 0\n",
            "i 576 1239 595 1329 0\n",
            "b 615 1238 663 1329 0\n",
            "h 694 1239 738 1329 0\n",
            "a 766 1237 804 1305 0\n",
            "v 834 1239 870 1303 0\n",
            "i 910 1239 929 1329 0\n",
            "P 991 1239 1064 1329 0\n",
            "r 1079 1239 1120 1305 0\n",
            "a 1133 1237 1191 1305 0\n",
            "m 1206 1239 1275 1305 0\n",
            "o 1275 1239 1303 1305 0\n",
            "d 1345 1238 1449 1329 0\n",
            "B 1523 1239 1548 1329 0\n",
            "e 1548 1239 1593 1329 0\n",
            "l 1614 1238 1662 1305 0\n",
            "a 1683 1239 1703 1329 0\n",
            "n 1745 1237 1851 1305 0\n",
            "S 414 1075 446 1125 0\n",
            "u 446 1075 457 1125 0\n",
            "c 482 1075 498 1111 0\n",
            "c 518 1075 541 1112 0\n",
            "e 557 1075 579 1112 0\n",
            "s 596 1075 620 1112 0\n",
            "s 632 1075 658 1112 0\n",
            "f 671 1075 697 1112 0\n",
            "u 701 1076 724 1125 0\n",
            "l 731 1075 758 1111 0\n",
            "l 770 1076 793 1124 0\n",
            "y 806 1062 835 1111 0\n",
            "C 862 1075 910 1125 0\n",
            "o 920 1075 953 1112 0\n",
            "m 961 1076 992 1112 0\n",
            "p 992 1076 1015 1112 0\n",
            "l 1031 1063 1060 1112 0\n",
            "e 1067 1076 1074 1124 0\n",
            "t 1091 1075 1118 1112 0\n",
            "e 1130 1075 1169 1123 0\n",
            "d 1189 1075 1217 1124 0\n",
            "t 1251 1075 1265 1123 0\n",
            "h 1276 1076 1295 1124 0\n",
            "e 1317 1075 1352 1112 0\n",
            "f 1379 1076 1397 1125 0\n",
            "o 1402 1075 1430 1112 0\n",
            "l 1447 1076 1454 1124 0\n",
            "l 1464 1076 1471 1124 0\n",
            "o 1493 1075 1516 1112 0\n",
            "w 1523 1076 1562 1111 0\n",
            "i 1579 1076 1586 1124 0\n",
            "n 1598 1076 1628 1112 0\n",
            "g 1637 1062 1670 1112 0\n",
            "c 1700 1075 1734 1112 0\n",
            "o 1739 1075 1775 1112 0\n",
            "u 1783 1075 1805 1111 0\n",
            "r 1805 1075 1815 1111 0\n",
            "s 1835 1075 1874 1112 0\n",
            "e 1888 1075 1924 1112 0\n",
            "S 421 909 478 1003 0\n",
            "o 510 910 545 977 0\n",
            "f 583 911 612 1002 0\n",
            "t 635 910 673 998 0\n",
            "w 692 911 740 975 0\n",
            "a 740 911 786 975 0\n",
            "r 806 909 854 977 0\n",
            "e 868 910 960 977 0\n",
            "T 1017 911 1058 1001 0\n",
            "e 1091 910 1124 977 0\n",
            "s 1124 910 1144 977 0\n",
            "t 1186 909 1247 998 0\n",
            "i 1281 911 1300 1001 0\n",
            "n 1320 911 1379 976 0\n",
            "g 1398 890 1456 977 0\n",
            "w 1509 911 1575 975 0\n",
            "i 1617 911 1636 1001 0\n",
            "t 1648 910 1694 998 0\n",
            "h 1711 911 1770 1001 0\n",
            "S 1825 909 1897 1003 0\n",
            "e 1911 910 1964 977 0\n",
            "l 1984 911 2004 1001 0\n",
            "e 2026 910 2073 977 0\n",
            "n 2093 911 2152 976 0\n",
            "i 2171 911 2190 1001 0\n",
            "u 2221 909 2270 975 0\n",
            "m 2289 911 2386 977 0\n",
            "L 422 752 469 842 0\n",
            "i 507 752 526 842 0\n",
            "v 541 752 592 816 0\n",
            "e 611 751 664 818 0\n",
            "P 726 752 777 842 0\n",
            "r 814 752 838 818 0\n",
            "o 838 752 855 818 0\n",
            "j 900 730 966 843 0\n",
            "e 966 730 974 843 0\n",
            "c 1018 751 1046 818 0\n",
            "t 1069 750 1166 839 0\n",
            "T 1214 752 1258 842 0\n",
            "r 1292 752 1320 818 0\n",
            "a 1342 750 1387 818 0\n",
            "i 1419 752 1438 842 0\n",
            "n 1458 752 1489 817 0\n",
            "i 1536 752 1555 842 0\n",
            "n 1575 752 1617 817 0\n",
            "g 1652 731 1710 818 0\n",
            "2 448 321 466 354 0\n",
            "0 478 321 492 354 0\n",
            "- 508 330 521 334 0\n",
            "0 526 321 543 354 0\n",
            "3 543 321 551 354 0\n",
            "- 565 321 594 354 0\n",
            "2 601 321 620 354 0\n",
            "0 631 321 647 354 0\n",
            "2 659 321 673 354 0\n",
            "1 694 321 709 354 0\n",
            "O 1612 322 1639 357 0\n",
            "I 1654 323 1666 356 0\n",
            "T 1673 323 1693 356 0\n",
            "V 1707 322 1731 356 0\n",
            "2 1748 323 1761 356 0\n",
            "0 1761 323 1773 356 0\n",
            "1 1790 323 1803 356 0\n",
            "1 1819 323 1848 356 0\n",
            "6 1863 323 1887 356 0\n",
            "S 2743 330 2800 487 0\n",
            "D 2800 330 2890 487 0\n",
            "I 446 248 452 284 0\n",
            "s 463 248 484 275 0\n",
            "s 490 248 513 275 0\n",
            "u 518 248 542 274 0\n",
            "e 548 248 576 275 0\n",
            "D 599 248 623 284 0\n",
            "a 623 248 633 284 0\n",
            "t 650 248 665 275 0\n",
            "e 676 248 714 283 0\n",
            "C 1591 246 1609 284 0\n",
            "e 1609 246 1627 284 0\n",
            "r 1634 247 1660 274 0\n",
            "t 1660 247 1660 274 0\n",
            "i 1680 247 1696 282 0\n",
            "f 1702 247 1724 283 0\n",
            "i 1729 247 1734 283 0\n",
            "c 1747 247 1766 274 0\n",
            "a 1769 247 1788 274 0\n",
            "t 1800 247 1814 282 0\n",
            "e 1817 247 1845 274 0\n",
            "I 1868 247 1874 283 0\n",
            "D 1887 247 1918 283 0\n",
            "P 2834 236 2852 272 0\n",
            ". 2865 236 2871 240 0\n",
            "S 2879 235 2902 273 0\n",
            "a 2902 235 2912 273 0\n",
            "t 2925 236 2958 271 0\n",
            "y 2963 226 2980 262 0\n",
            "a 2993 236 3020 263 0\n",
            "O 2627 153 2646 188 0\n",
            "n 2646 153 2663 188 0\n",
            "l 2669 154 2691 179 0\n",
            "i 2698 154 2714 187 0\n",
            "n 2721 154 2737 179 0\n",
            "e 2749 154 2774 179 0\n",
            "I 2796 154 2801 187 0\n",
            "T 2811 154 2836 187 0\n",
            "V 2852 154 2880 187 0\n",
            "i 2889 154 2893 187 0\n",
            "d 2902 154 2922 187 0\n",
            "h 2932 154 2952 187 0\n",
            "y 2957 145 2976 178 0\n",
            "a 2984 154 3009 179 0\n",
            "F 3031 154 3056 187 0\n",
            "o 3060 154 3082 179 0\n",
            "u 3092 154 3108 178 0\n",
            "n 3121 154 3134 179 0\n",
            "d 3148 154 3160 187 0\n",
            "e 3160 154 3171 187 0\n",
            "r 3186 154 3223 179 0\n",
            "\n"
          ],
          "name": "stdout"
        }
      ]
    }
  ]
}